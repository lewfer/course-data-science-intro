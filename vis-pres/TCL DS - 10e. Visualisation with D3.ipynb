{
 "cells": [
  {
   "cell_type": "markdown",
   "metadata": {},
   "source": [
    "# D3\n",
    "In this worksheet we will take a look at how a very simple D3 plot works. D3 can be *hugely* complex.  Therefore we won't go into detail at this stage.  If you want to apply D3 to your project be prepared for a steep learning curve!\n",
    "\n",
    "The examples here come from this article:\n",
    "https://www.stefaanlippens.net/jupyter-custom-d3-visualization.html\n",
    "\n",
    "There are various libraries that attempt to make using D3 easier.  For example:\n",
    "https://d3plus.org\n",
    "\n",
    "Do explore these options, but bear in mind that most options that simplify things also remove flexibility!  If you want complete control over your visualisation then learning D3 may be the way to go.  If you are willing to compromise then some of these other libraries my help.\n",
    "\n",
    "For some inspiration and to see what is possible with D3 see https://github.com/d3/d3/wiki/Gallery and https://bl.ocks.org/mbostock.  A lot of the examples there are very complex.  For standard charts and simpler code see https://www.d3-graph-gallery.com/."
   ]
  },
  {
   "cell_type": "markdown",
   "metadata": {},
   "source": [
    "## A simple set of circles\n",
    "Note that the example below is contrived to get D3 to work within Jupyter for consistency.  In reality, if you were working with D3 you would not do this, but would build web pages that could be displayed in a browser outside of Jupyter."
   ]
  },
  {
   "cell_type": "code",
   "execution_count": null,
   "metadata": {},
   "outputs": [],
   "source": [
    "# Import the libraries we need\n",
    "from IPython.display import display, Javascript, HTML\n",
    "import json"
   ]
  },
  {
   "cell_type": "code",
   "execution_count": null,
   "metadata": {},
   "outputs": [],
   "source": [
    "# Inject our Javascript libraries into Jupyter\n",
    "display(Javascript(\"require.config({paths: {d3: 'https://d3js.org/d3.v5.min'}});\"))\n",
    "\n",
    "# Load the scatter plot D3 javascript library\n",
    "display(Javascript(filename=\"./scripts/circles.js\"))\n",
    "\n",
    "# Inject our CSS style sheet into Jupyter\n",
    "display(HTML(filename=\"./scripts/circles.css.html\"))"
   ]
  },
  {
   "cell_type": "code",
   "execution_count": null,
   "metadata": {},
   "outputs": [],
   "source": [
    "# Define a function that will pass the data through to the Javascript\n",
    "def draw(kind, data, params=\"{}\", width=600, height=400):\n",
    "    display(Javascript(\"\"\"\n",
    "        (function(element){\n",
    "            require(['%s'], function(%s) {\n",
    "                %s(element.get(0), %s, '%s', %d, %d);\n",
    "            });\n",
    "        })(element);\n",
    "    \"\"\" % (kind, kind, kind, json.dumps(data), params, width, height)))"
   ]
  },
  {
   "cell_type": "code",
   "execution_count": null,
   "metadata": {},
   "outputs": [],
   "source": [
    "# Call the function\n",
    "draw('circles', [10, 60, 40, 5, 30, 10],  width=500, height=200)"
   ]
  },
  {
   "cell_type": "markdown",
   "metadata": {},
   "source": [
    "## A simple scatter plot"
   ]
  },
  {
   "cell_type": "code",
   "execution_count": null,
   "metadata": {},
   "outputs": [],
   "source": [
    "# Load the scatter plot D3 javascript library\n",
    "display(Javascript(filename=\"./scripts/scatter.js\"))"
   ]
  },
  {
   "cell_type": "code",
   "execution_count": null,
   "metadata": {},
   "outputs": [],
   "source": [
    "draw('scatter',[[10,40], [60,20], [40,30], [5,40], [30,10], [10,60]], width=500, height=200)"
   ]
  },
  {
   "cell_type": "code",
   "execution_count": null,
   "metadata": {},
   "outputs": [],
   "source": [
    "draw('scatter',[[10,40], [60,20],  [40,30],  [50,20]], params='{\"size\":3}',  width=500, height=200)"
   ]
  },
  {
   "cell_type": "markdown",
   "metadata": {},
   "source": [
    "## Using D3 with data from Pandas\n",
    "In the examples above we have used hard-coded data.  However, in previous workshops we have been using data from Pandas, so it would make sense to be able to draw D3 visualisations using data from Pandas."
   ]
  },
  {
   "cell_type": "code",
   "execution_count": null,
   "metadata": {},
   "outputs": [],
   "source": [
    "# Import pandas\n",
    "import pandas as pd"
   ]
  },
  {
   "cell_type": "code",
   "execution_count": null,
   "metadata": {},
   "outputs": [],
   "source": [
    "# Load the data\n",
    "df = pd.read_csv(\"../../datasets/World University Rankings/world_university_rankings_clean.csv\")"
   ]
  },
  {
   "cell_type": "code",
   "execution_count": null,
   "metadata": {},
   "outputs": [],
   "source": [
    "# Get 2 new dataframes - one with 2016 only and one with 2015 and 2016\n",
    "df2016 = df[df.year==2016]\n",
    "df201516 = df[(df.year==2016) | (df.year==2015)]"
   ]
  },
  {
   "cell_type": "code",
   "execution_count": null,
   "metadata": {},
   "outputs": [],
   "source": [
    "# To keep things clean let's reduce the data down to just the columns we need\n",
    "dfPlot = df2016[['university_name','research', 'total_score','year']]\n",
    "\n",
    "# And also let's remove nulls\n",
    "dfPlot = dfPlot[~dfPlot[\"total_score\"].isnull()]\n",
    "dfPlot = dfPlot[~dfPlot[\"research\"].isnull()]"
   ]
  },
  {
   "cell_type": "code",
   "execution_count": null,
   "metadata": {},
   "outputs": [],
   "source": [
    "# Combine the two columns together into a list of lists\n",
    "p = list(zip(list(dfPlot['research']),list(dfPlot['total_score'])))"
   ]
  },
  {
   "cell_type": "code",
   "execution_count": null,
   "metadata": {},
   "outputs": [],
   "source": [
    "# Draw it\n",
    "draw('scatter', p, params='{\"size\":2, \"padding\":20}',  width=500, height=400)"
   ]
  },
  {
   "cell_type": "code",
   "execution_count": null,
   "metadata": {},
   "outputs": [],
   "source": []
  },
  {
   "cell_type": "code",
   "execution_count": null,
   "metadata": {},
   "outputs": [],
   "source": []
  }
 ],
 "metadata": {
  "kernelspec": {
   "display_name": "Python 3",
   "language": "python",
   "name": "python3"
  },
  "language_info": {
   "codemirror_mode": {
    "name": "ipython",
    "version": 3
   },
   "file_extension": ".py",
   "mimetype": "text/x-python",
   "name": "python",
   "nbconvert_exporter": "python",
   "pygments_lexer": "ipython3",
   "version": "3.7.3"
  }
 },
 "nbformat": 4,
 "nbformat_minor": 2
}
