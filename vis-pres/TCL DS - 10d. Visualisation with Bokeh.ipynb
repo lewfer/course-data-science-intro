{
 "cells": [
  {
   "cell_type": "markdown",
   "metadata": {},
   "source": [
    "## Bokeh\n",
    "\n",
    "Bokeh is a library that provides very customisable interactive data visualisations.  Because it is so flexible it can be a little complex to use.\n",
    "\n",
    "The documentation can be found here: https://bokeh.pydata.org/en/latest/"
   ]
  },
  {
   "cell_type": "code",
   "execution_count": null,
   "metadata": {},
   "outputs": [],
   "source": [
    "# Allow import of libraries from parent directory\n",
    "import sys\n",
    "sys.path.append(\"..\")"
   ]
  },
  {
   "cell_type": "code",
   "execution_count": null,
   "metadata": {},
   "outputs": [],
   "source": [
    "from dasi_library import *"
   ]
  },
  {
   "cell_type": "code",
   "execution_count": null,
   "metadata": {},
   "outputs": [],
   "source": [
    "# Import the libraries we need for Bokeh\n",
    "from bokeh.io import output_notebook, show, output_file\n",
    "from bokeh.plotting import figure\n",
    "from bokeh.models import ColumnDataSource,HoverTool, CategoricalColorMapper\n",
    "from bokeh.transform import transform"
   ]
  },
  {
   "cell_type": "code",
   "execution_count": null,
   "metadata": {},
   "outputs": [],
   "source": [
    "# This line tells Jupyter that we want to output the charts embedded in the Jupyter notebook\n",
    "output_notebook()"
   ]
  },
  {
   "cell_type": "code",
   "execution_count": null,
   "metadata": {},
   "outputs": [],
   "source": [
    "# Import pandas\n",
    "#import pandas as pd"
   ]
  },
  {
   "cell_type": "code",
   "execution_count": null,
   "metadata": {},
   "outputs": [],
   "source": [
    "# Load the data\n",
    "df = readCsv(\"../../datasets/World University Rankings/world_university_rankings_clean.csv\")"
   ]
  },
  {
   "cell_type": "code",
   "execution_count": null,
   "metadata": {},
   "outputs": [],
   "source": [
    "# Remind ourselves what the data is\n",
    "df.head()"
   ]
  },
  {
   "cell_type": "code",
   "execution_count": null,
   "metadata": {},
   "outputs": [],
   "source": [
    "# Get 2 new dataframes - one with 2016 only and one with 2015 and 2016\n",
    "df2016 = selectRows(df, df.year==2016)\n",
    "df201516 = selectRows(df, (df.year==2016) | (df.year==2015))"
   ]
  },
  {
   "cell_type": "markdown",
   "metadata": {},
   "source": [
    "## The basic scatter plot"
   ]
  },
  {
   "cell_type": "code",
   "execution_count": null,
   "metadata": {},
   "outputs": [],
   "source": [
    "# Bokeh needs us to wrap the dataframe to create a source\n",
    "source = ColumnDataSource(df2016)\n",
    "\n",
    "# Make a basic plot\n",
    "p = figure(plot_width=800, plot_height=400)\n",
    "p.circle('research', 'total_score', source=source)\n",
    "show(p)"
   ]
  },
  {
   "cell_type": "markdown",
   "metadata": {},
   "source": [
    "## Extending the scatter plot\n",
    "What if we want to have both 2015 and 2016 data and use different colours for each?   The code below shows how to do that.  We can also add layout enhancements."
   ]
  },
  {
   "cell_type": "code",
   "execution_count": null,
   "metadata": {},
   "outputs": [],
   "source": [
    "# First we need to convert the year to a string, because the transform() function needs it that way\n",
    "df201516[\"year\"] = df201516.year.astype(str)"
   ]
  },
  {
   "cell_type": "code",
   "execution_count": null,
   "metadata": {},
   "outputs": [],
   "source": [
    "# Bokeh needs us to wrap the dataframe to create a source\n",
    "source = ColumnDataSource(df201516)\n",
    "\n",
    "# Create a mapping from the years to a set of colours\n",
    "factors = list(df201516.year.unique().astype(str)) \n",
    "colors = [\"red\",\"green\",\"blue\",\"black\",\"orange\",\"brown\",\"grey\",\"purple\",\"yellow\",\"white\",\"pink\",\"peru\"]\n",
    "mapper = CategoricalColorMapper(factors = factors,palette = colors)\n",
    "\n",
    "# Create a hover tool\n",
    "hover = HoverTool(tooltips = [(\"\",\"@university_name\"),(\"Research\",\"@research\"),(\"Total Score\",\"@total_score\"),(\"Income\",\"@income\")], mode=\"hline\")\n",
    "\n",
    "# Make the plot\n",
    "p = figure(title=\"University Scores and Research\", plot_width=800, plot_height=400, tools=[hover,\"crosshair\"])\n",
    "p.circle('research', 'total_score', source=source, color = transform(\"year\",mapper))\n",
    "\n",
    "# Set the axes labels\n",
    "p.xaxis.axis_label = 'Research'\n",
    "p.yaxis.axis_label = 'Total Score'\n",
    "\n",
    "show(p)"
   ]
  },
  {
   "cell_type": "markdown",
   "metadata": {
    "collapsed": true
   },
   "source": [
    "## Your turn>>\n",
    "Use Bokeh to plot a scatter plot with your own data."
   ]
  },
  {
   "cell_type": "code",
   "execution_count": null,
   "metadata": {},
   "outputs": [],
   "source": [
    "# Enter your code here"
   ]
  },
  {
   "cell_type": "markdown",
   "metadata": {},
   "source": [
    "## Your turn>>\n",
    "Explore other Bokeh charts."
   ]
  },
  {
   "cell_type": "code",
   "execution_count": null,
   "metadata": {},
   "outputs": [],
   "source": [
    "# Enter your code here"
   ]
  },
  {
   "cell_type": "code",
   "execution_count": null,
   "metadata": {},
   "outputs": [],
   "source": []
  }
 ],
 "metadata": {
  "kernelspec": {
   "display_name": "Python 3",
   "language": "python",
   "name": "python3"
  },
  "language_info": {
   "codemirror_mode": {
    "name": "ipython",
    "version": 3
   },
   "file_extension": ".py",
   "mimetype": "text/x-python",
   "name": "python",
   "nbconvert_exporter": "python",
   "pygments_lexer": "ipython3",
   "version": "3.7.3"
  }
 },
 "nbformat": 4,
 "nbformat_minor": 2
}
