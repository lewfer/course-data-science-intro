{
 "cells": [
  {
   "cell_type": "markdown",
   "metadata": {},
   "source": [
    "# Plotly\n",
    "Plotly is a library that allows you to create interactive plots. \n",
    "\n",
    "The documentation can be found here: https://plot.ly/python/\n",
    "\n",
    "To install plotly you need to run:\n",
    "\n",
    "<pre>pip install plotly </pre>"
   ]
  },
  {
   "cell_type": "code",
   "execution_count": null,
   "metadata": {},
   "outputs": [],
   "source": [
    "# Allow import of libraries from parent directory\n",
    "import sys\n",
    "sys.path.append(\"..\")"
   ]
  },
  {
   "cell_type": "code",
   "execution_count": null,
   "metadata": {},
   "outputs": [],
   "source": [
    "from dasi_library import *"
   ]
  },
  {
   "cell_type": "code",
   "execution_count": null,
   "metadata": {},
   "outputs": [],
   "source": [
    "# Import the libraries we need for Plotly\n",
    "import plotly as py\n",
    "import plotly.graph_objs as go"
   ]
  },
  {
   "cell_type": "code",
   "execution_count": null,
   "metadata": {},
   "outputs": [],
   "source": [
    "# Allow plotting inside Jupyter\n",
    "py.offline.init_notebook_mode(connected=True)"
   ]
  },
  {
   "cell_type": "code",
   "execution_count": null,
   "metadata": {},
   "outputs": [],
   "source": [
    "# Import pandas\n",
    "#import pandas as pd"
   ]
  },
  {
   "cell_type": "code",
   "execution_count": null,
   "metadata": {},
   "outputs": [],
   "source": [
    "# Load the data\n",
    "df = readCsv(\"../../datasets/World University Rankings/world_university_rankings_clean.csv\")"
   ]
  },
  {
   "cell_type": "code",
   "execution_count": null,
   "metadata": {},
   "outputs": [],
   "source": [
    "# Remind ourselves what the data is\n",
    "df.head()"
   ]
  },
  {
   "cell_type": "code",
   "execution_count": null,
   "metadata": {},
   "outputs": [],
   "source": [
    "# Get 2 new dataframes - one with 2016 only and one with 2015 and 2016\n",
    "df2016 = selectRows(df, df.year==2016)\n",
    "df2015 = selectRows(df, df.year==2015)"
   ]
  },
  {
   "cell_type": "markdown",
   "metadata": {},
   "source": [
    "## The basic scatter plot"
   ]
  },
  {
   "cell_type": "code",
   "execution_count": null,
   "metadata": {},
   "outputs": [],
   "source": [
    "# Create a 'trace' of the markers\n",
    "trace1 = go.Scatter(\n",
    "                    x = df2016.research,\n",
    "                    y = df2016.total_score,\n",
    "                    mode = \"markers\")\n",
    "\n",
    "# Collect the traces together (we have only one)\n",
    "data = [trace1]\n",
    "\n",
    "# Create and plot the figure\n",
    "fig = dict(data = data)\n",
    "py.offline.iplot(fig)"
   ]
  },
  {
   "cell_type": "markdown",
   "metadata": {},
   "source": [
    "## Extending the scatter plot\n",
    "What if we want to have both 2015 and 2016 data and use different colours for each?   The code below shows we can just create another trace and add it.  We can also add layout enhancements."
   ]
  },
  {
   "cell_type": "code",
   "execution_count": null,
   "metadata": {},
   "outputs": [],
   "source": [
    "# Create a 'trace' of the markers for 2016\n",
    "trace1 =go.Scatter(\n",
    "                    x = df2016.research,\n",
    "                    y = df2016.total_score,\n",
    "                    name = \"2016\",\n",
    "                    mode = \"markers\")\n",
    "\n",
    "# Create a 'trace' of the markers for 2015\n",
    "trace2 =go.Scatter(\n",
    "                    x = df2015.research,\n",
    "                    y = df2015.total_score,\n",
    "                    name = \"2015\",\n",
    "                    mode = \"markers\")\n",
    "\n",
    "# Collect the traces together\n",
    "data = [trace1, trace2]\n",
    "\n",
    "\n",
    "# Create a layout, so we can add some styles\n",
    "layout = go.Layout(\n",
    "    title='University Scores and Research',\n",
    "    xaxis=dict(\n",
    "        title='Research'\n",
    "    ),\n",
    "    yaxis=dict(\n",
    "        title='Total Score'\n",
    "    ),\n",
    ")\n",
    "\n",
    "# Create and plot the figure\n",
    "fig = go.Figure(data=data, layout=layout)\n",
    "py.offline.iplot(fig)"
   ]
  },
  {
   "cell_type": "markdown",
   "metadata": {},
   "source": [
    "## Your turn>>\n",
    "Use Plotly to plot a scatter plot with your own data."
   ]
  },
  {
   "cell_type": "code",
   "execution_count": null,
   "metadata": {},
   "outputs": [],
   "source": [
    "# Enter your code here"
   ]
  },
  {
   "cell_type": "markdown",
   "metadata": {},
   "source": [
    "## Your turn>>\n",
    "Explore other Plotly charts."
   ]
  },
  {
   "cell_type": "code",
   "execution_count": null,
   "metadata": {},
   "outputs": [],
   "source": [
    "# Enter your code here"
   ]
  }
 ],
 "metadata": {
  "kernelspec": {
   "display_name": "Python 3",
   "language": "python",
   "name": "python3"
  },
  "language_info": {
   "codemirror_mode": {
    "name": "ipython",
    "version": 3
   },
   "file_extension": ".py",
   "mimetype": "text/x-python",
   "name": "python",
   "nbconvert_exporter": "python",
   "pygments_lexer": "ipython3",
   "version": "3.7.3"
  }
 },
 "nbformat": 4,
 "nbformat_minor": 2
}
