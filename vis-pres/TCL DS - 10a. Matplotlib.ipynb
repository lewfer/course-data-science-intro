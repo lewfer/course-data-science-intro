{
 "cells": [
  {
   "cell_type": "markdown",
   "metadata": {},
   "source": [
    "# Visualisation for Presentation\n",
    "In this worksheet we will use the Matplotlib libraries to prepare some more interesting visualisations with the purpose of presenting our findings.  Matplot lib provides a huge range of types of visualisation and styles."
   ]
  },
  {
   "cell_type": "code",
   "execution_count": null,
   "metadata": {},
   "outputs": [],
   "source": [
    "# Allow import of libraries from parent directory\n",
    "import sys\n",
    "sys.path.append(\"..\")"
   ]
  },
  {
   "cell_type": "code",
   "execution_count": null,
   "metadata": {},
   "outputs": [],
   "source": [
    "from dasi_library import *"
   ]
  },
  {
   "cell_type": "code",
   "execution_count": null,
   "metadata": {},
   "outputs": [],
   "source": [
    "dataset = readCsv('../../datasets/World Development Indicators/World Indicators 2010.csv')"
   ]
  },
  {
   "cell_type": "markdown",
   "metadata": {},
   "source": [
    "## Four Variable Bubble Chart"
   ]
  },
  {
   "cell_type": "markdown",
   "metadata": {},
   "source": [
    "Scatter plots are very useful for conveying data relationships.   We already used simple scatter plots to help review our features in preparation for model fitting.  We can also use them for presentation graphics.\n",
    "One of the great things about scatter plots is that you can show the relationship of 4 numeric features at once.\n",
    "In the scatter plot below we assign one feature to the x-axis, one to the y-axis, one to the circle colour and one to the circle size.  Sometimes these are called Bubble Charts."
   ]
  },
  {
   "cell_type": "code",
   "execution_count": null,
   "metadata": {},
   "outputs": [],
   "source": [
    "bubbleChart(dataset,\n",
    "            xCol='BirthRate', \n",
    "            yCol='FertilityRate', \n",
    "            sizeCol='GDP', \n",
    "            colourCol='Pop65+', \n",
    "            labelsCol='CountryName')"
   ]
  },
  {
   "cell_type": "markdown",
   "metadata": {},
   "source": [
    "We added all the labels above, but this is a bit messy.  Let's just select a few labels"
   ]
  },
  {
   "cell_type": "code",
   "execution_count": null,
   "metadata": {},
   "outputs": [],
   "source": [
    "bubbleChart(dataset, \n",
    "            xCol='BirthRate', \n",
    "            yCol='FertilityRate', \n",
    "            sizeCol='GDP', \n",
    "            colourCol='Pop65+', \n",
    "            labelsCol='CountryName', \n",
    "            labelsToShow=['Albania','India','United Kingdom'])   "
   ]
  },
  {
   "cell_type": "markdown",
   "metadata": {},
   "source": [
    "Let's plot some different metrics"
   ]
  },
  {
   "cell_type": "code",
   "execution_count": null,
   "metadata": {},
   "outputs": [],
   "source": [
    "bubbleChart(dataset, \n",
    "            xCol='LifeExp', \n",
    "            yCol='FertilityRate', \n",
    "            sizeCol='GDP', \n",
    "            colourCol='Pop65+', \n",
    "            labelsCol='CountryName', \n",
    "            labelsToShow=['Albania','India','United Kingdom'],\n",
    "            minBubble=5,\n",
    "            maxBubble=1000)  "
   ]
  },
  {
   "cell_type": "markdown",
   "metadata": {},
   "source": [
    "## Four Variable Bubble Chart, Colour is Categorical"
   ]
  },
  {
   "cell_type": "markdown",
   "metadata": {},
   "source": [
    "In the above, the colour of the circle was assigned to a numeric variable and the colour scale down the right hand size indicated the value of the colour.  It is also interesting to see a categorical variable against the colour.  Let's colour the circles by region."
   ]
  },
  {
   "cell_type": "markdown",
   "metadata": {},
   "source": [
    "First read in the country data, which contains the region:"
   ]
  },
  {
   "cell_type": "code",
   "execution_count": null,
   "metadata": {},
   "outputs": [],
   "source": [
    "countries = readCsv('../../datasets/World Development Indicators/Country.csv')"
   ]
  },
  {
   "cell_type": "code",
   "execution_count": null,
   "metadata": {},
   "outputs": [],
   "source": [
    "countries = selectCols(countries, ['TableName','CountryCode','Region'])"
   ]
  },
  {
   "cell_type": "markdown",
   "metadata": {},
   "source": [
    "Merge the region onto our data, so each country is tagged with the region:"
   ]
  },
  {
   "cell_type": "code",
   "execution_count": null,
   "metadata": {},
   "outputs": [],
   "source": [
    "merged = mergeOn(dataset, countries, on='CountryName', to='TableName')"
   ]
  },
  {
   "cell_type": "code",
   "execution_count": null,
   "metadata": {},
   "outputs": [],
   "source": [
    "merged"
   ]
  },
  {
   "cell_type": "markdown",
   "metadata": {},
   "source": [
    "Now show the bubble chart with the regions:"
   ]
  },
  {
   "cell_type": "code",
   "execution_count": null,
   "metadata": {},
   "outputs": [],
   "source": [
    "bubbleChart(merged,\n",
    "            xCol='LifeExp', \n",
    "            yCol='FertilityRate', \n",
    "            sizeCol='GDP', \n",
    "            colourCol='Region', \n",
    "            labelsCol='CountryName', \n",
    "            labelsToShow=['Albania','India','United Kingdom'])  "
   ]
  },
  {
   "cell_type": "code",
   "execution_count": null,
   "metadata": {},
   "outputs": [],
   "source": []
  },
  {
   "cell_type": "code",
   "execution_count": null,
   "metadata": {},
   "outputs": [],
   "source": []
  }
 ],
 "metadata": {
  "kernelspec": {
   "display_name": "Python 3",
   "language": "python",
   "name": "python3"
  },
  "language_info": {
   "codemirror_mode": {
    "name": "ipython",
    "version": 3
   },
   "file_extension": ".py",
   "mimetype": "text/x-python",
   "name": "python",
   "nbconvert_exporter": "python",
   "pygments_lexer": "ipython3",
   "version": "3.7.3"
  }
 },
 "nbformat": 4,
 "nbformat_minor": 2
}
